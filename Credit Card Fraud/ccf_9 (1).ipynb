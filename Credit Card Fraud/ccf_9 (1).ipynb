{
  "nbformat": 4,
  "nbformat_minor": 0,
  "metadata": {
    "colab": {
      "name": "ccf_9.ipynb",
      "provenance": [],
      "collapsed_sections": [
        "8ag3Zz8KFxLm",
        "Cx-LhuQiGEP3"
      ],
      "toc_visible": true
    },
    "kernelspec": {
      "display_name": "Python 3",
      "name": "python3"
    },
    "language_info": {
      "name": "python"
    }
  },
  "cells": [
    {
      "cell_type": "code",
      "metadata": {
        "id": "iPuIEra03tUJ"
      },
      "source": [
        "import pandas as pd\n",
        "import numpy as np\n",
        "import matplotlib.pyplot as plt"
      ],
      "execution_count": null,
      "outputs": []
    },
    {
      "cell_type": "code",
      "metadata": {
        "id": "oTLpJMhM7AUR"
      },
      "source": [
        "df = pd.read_csv('/content/creditcard.csv')"
      ],
      "execution_count": null,
      "outputs": []
    },
    {
      "cell_type": "code",
      "metadata": {
        "colab": {
          "base_uri": "https://localhost:8080/",
          "height": 187
        },
        "id": "hh0zEt-FnKi_",
        "outputId": "80ac65d3-acbe-4603-a238-133adac9edfe"
      },
      "source": [
        "df.head(4)"
      ],
      "execution_count": null,
      "outputs": [
        {
          "output_type": "execute_result",
          "data": {
            "text/html": [
              "<div>\n",
              "<style scoped>\n",
              "    .dataframe tbody tr th:only-of-type {\n",
              "        vertical-align: middle;\n",
              "    }\n",
              "\n",
              "    .dataframe tbody tr th {\n",
              "        vertical-align: top;\n",
              "    }\n",
              "\n",
              "    .dataframe thead th {\n",
              "        text-align: right;\n",
              "    }\n",
              "</style>\n",
              "<table border=\"1\" class=\"dataframe\">\n",
              "  <thead>\n",
              "    <tr style=\"text-align: right;\">\n",
              "      <th></th>\n",
              "      <th>Time</th>\n",
              "      <th>V1</th>\n",
              "      <th>V2</th>\n",
              "      <th>V3</th>\n",
              "      <th>V4</th>\n",
              "      <th>V5</th>\n",
              "      <th>V6</th>\n",
              "      <th>V7</th>\n",
              "      <th>V8</th>\n",
              "      <th>V9</th>\n",
              "      <th>V10</th>\n",
              "      <th>V11</th>\n",
              "      <th>V12</th>\n",
              "      <th>V13</th>\n",
              "      <th>V14</th>\n",
              "      <th>V15</th>\n",
              "      <th>V16</th>\n",
              "      <th>V17</th>\n",
              "      <th>V18</th>\n",
              "      <th>V19</th>\n",
              "      <th>V20</th>\n",
              "      <th>V21</th>\n",
              "      <th>V22</th>\n",
              "      <th>V23</th>\n",
              "      <th>V24</th>\n",
              "      <th>V25</th>\n",
              "      <th>V26</th>\n",
              "      <th>V27</th>\n",
              "      <th>V28</th>\n",
              "      <th>Amount</th>\n",
              "      <th>Class</th>\n",
              "    </tr>\n",
              "  </thead>\n",
              "  <tbody>\n",
              "    <tr>\n",
              "      <th>0</th>\n",
              "      <td>0.0</td>\n",
              "      <td>-1.359807</td>\n",
              "      <td>-0.072781</td>\n",
              "      <td>2.536347</td>\n",
              "      <td>1.378155</td>\n",
              "      <td>-0.338321</td>\n",
              "      <td>0.462388</td>\n",
              "      <td>0.239599</td>\n",
              "      <td>0.098698</td>\n",
              "      <td>0.363787</td>\n",
              "      <td>0.090794</td>\n",
              "      <td>-0.551600</td>\n",
              "      <td>-0.617801</td>\n",
              "      <td>-0.991390</td>\n",
              "      <td>-0.311169</td>\n",
              "      <td>1.468177</td>\n",
              "      <td>-0.470401</td>\n",
              "      <td>0.207971</td>\n",
              "      <td>0.025791</td>\n",
              "      <td>0.403993</td>\n",
              "      <td>0.251412</td>\n",
              "      <td>-0.018307</td>\n",
              "      <td>0.277838</td>\n",
              "      <td>-0.110474</td>\n",
              "      <td>0.066928</td>\n",
              "      <td>0.128539</td>\n",
              "      <td>-0.189115</td>\n",
              "      <td>0.133558</td>\n",
              "      <td>-0.021053</td>\n",
              "      <td>149.62</td>\n",
              "      <td>0</td>\n",
              "    </tr>\n",
              "    <tr>\n",
              "      <th>1</th>\n",
              "      <td>0.0</td>\n",
              "      <td>1.191857</td>\n",
              "      <td>0.266151</td>\n",
              "      <td>0.166480</td>\n",
              "      <td>0.448154</td>\n",
              "      <td>0.060018</td>\n",
              "      <td>-0.082361</td>\n",
              "      <td>-0.078803</td>\n",
              "      <td>0.085102</td>\n",
              "      <td>-0.255425</td>\n",
              "      <td>-0.166974</td>\n",
              "      <td>1.612727</td>\n",
              "      <td>1.065235</td>\n",
              "      <td>0.489095</td>\n",
              "      <td>-0.143772</td>\n",
              "      <td>0.635558</td>\n",
              "      <td>0.463917</td>\n",
              "      <td>-0.114805</td>\n",
              "      <td>-0.183361</td>\n",
              "      <td>-0.145783</td>\n",
              "      <td>-0.069083</td>\n",
              "      <td>-0.225775</td>\n",
              "      <td>-0.638672</td>\n",
              "      <td>0.101288</td>\n",
              "      <td>-0.339846</td>\n",
              "      <td>0.167170</td>\n",
              "      <td>0.125895</td>\n",
              "      <td>-0.008983</td>\n",
              "      <td>0.014724</td>\n",
              "      <td>2.69</td>\n",
              "      <td>0</td>\n",
              "    </tr>\n",
              "    <tr>\n",
              "      <th>2</th>\n",
              "      <td>1.0</td>\n",
              "      <td>-1.358354</td>\n",
              "      <td>-1.340163</td>\n",
              "      <td>1.773209</td>\n",
              "      <td>0.379780</td>\n",
              "      <td>-0.503198</td>\n",
              "      <td>1.800499</td>\n",
              "      <td>0.791461</td>\n",
              "      <td>0.247676</td>\n",
              "      <td>-1.514654</td>\n",
              "      <td>0.207643</td>\n",
              "      <td>0.624501</td>\n",
              "      <td>0.066084</td>\n",
              "      <td>0.717293</td>\n",
              "      <td>-0.165946</td>\n",
              "      <td>2.345865</td>\n",
              "      <td>-2.890083</td>\n",
              "      <td>1.109969</td>\n",
              "      <td>-0.121359</td>\n",
              "      <td>-2.261857</td>\n",
              "      <td>0.524980</td>\n",
              "      <td>0.247998</td>\n",
              "      <td>0.771679</td>\n",
              "      <td>0.909412</td>\n",
              "      <td>-0.689281</td>\n",
              "      <td>-0.327642</td>\n",
              "      <td>-0.139097</td>\n",
              "      <td>-0.055353</td>\n",
              "      <td>-0.059752</td>\n",
              "      <td>378.66</td>\n",
              "      <td>0</td>\n",
              "    </tr>\n",
              "    <tr>\n",
              "      <th>3</th>\n",
              "      <td>1.0</td>\n",
              "      <td>-0.966272</td>\n",
              "      <td>-0.185226</td>\n",
              "      <td>1.792993</td>\n",
              "      <td>-0.863291</td>\n",
              "      <td>-0.010309</td>\n",
              "      <td>1.247203</td>\n",
              "      <td>0.237609</td>\n",
              "      <td>0.377436</td>\n",
              "      <td>-1.387024</td>\n",
              "      <td>-0.054952</td>\n",
              "      <td>-0.226487</td>\n",
              "      <td>0.178228</td>\n",
              "      <td>0.507757</td>\n",
              "      <td>-0.287924</td>\n",
              "      <td>-0.631418</td>\n",
              "      <td>-1.059647</td>\n",
              "      <td>-0.684093</td>\n",
              "      <td>1.965775</td>\n",
              "      <td>-1.232622</td>\n",
              "      <td>-0.208038</td>\n",
              "      <td>-0.108300</td>\n",
              "      <td>0.005274</td>\n",
              "      <td>-0.190321</td>\n",
              "      <td>-1.175575</td>\n",
              "      <td>0.647376</td>\n",
              "      <td>-0.221929</td>\n",
              "      <td>0.062723</td>\n",
              "      <td>0.061458</td>\n",
              "      <td>123.50</td>\n",
              "      <td>0</td>\n",
              "    </tr>\n",
              "  </tbody>\n",
              "</table>\n",
              "</div>"
            ],
            "text/plain": [
              "   Time        V1        V2        V3  ...       V27       V28  Amount  Class\n",
              "0   0.0 -1.359807 -0.072781  2.536347  ...  0.133558 -0.021053  149.62      0\n",
              "1   0.0  1.191857  0.266151  0.166480  ... -0.008983  0.014724    2.69      0\n",
              "2   1.0 -1.358354 -1.340163  1.773209  ... -0.055353 -0.059752  378.66      0\n",
              "3   1.0 -0.966272 -0.185226  1.792993  ...  0.062723  0.061458  123.50      0\n",
              "\n",
              "[4 rows x 31 columns]"
            ]
          },
          "metadata": {
            "tags": []
          },
          "execution_count": 4
        }
      ]
    },
    {
      "cell_type": "code",
      "metadata": {
        "colab": {
          "base_uri": "https://localhost:8080/"
        },
        "id": "EFh_vj75nL7s",
        "outputId": "f1b17e61-fd7c-4ecc-a643-85b6a13e29bf"
      },
      "source": [
        "df.shape"
      ],
      "execution_count": null,
      "outputs": [
        {
          "output_type": "execute_result",
          "data": {
            "text/plain": [
              "(284807, 31)"
            ]
          },
          "metadata": {
            "tags": []
          },
          "execution_count": 6
        }
      ]
    },
    {
      "cell_type": "code",
      "metadata": {
        "colab": {
          "base_uri": "https://localhost:8080/"
        },
        "id": "ef7cYAJunO1C",
        "outputId": "be7187cd-c740-445b-fb5a-2a2591fb74f1"
      },
      "source": [
        "df.isnull().any()"
      ],
      "execution_count": null,
      "outputs": [
        {
          "output_type": "execute_result",
          "data": {
            "text/plain": [
              "Time      False\n",
              "V1        False\n",
              "V2        False\n",
              "V3        False\n",
              "V4        False\n",
              "V5        False\n",
              "V6        False\n",
              "V7        False\n",
              "V8        False\n",
              "V9        False\n",
              "V10       False\n",
              "V11       False\n",
              "V12       False\n",
              "V13       False\n",
              "V14       False\n",
              "V15       False\n",
              "V16       False\n",
              "V17       False\n",
              "V18       False\n",
              "V19       False\n",
              "V20       False\n",
              "V21       False\n",
              "V22       False\n",
              "V23       False\n",
              "V24       False\n",
              "V25       False\n",
              "V26       False\n",
              "V27       False\n",
              "V28       False\n",
              "Amount    False\n",
              "Class     False\n",
              "dtype: bool"
            ]
          },
          "metadata": {
            "tags": []
          },
          "execution_count": 7
        }
      ]
    },
    {
      "cell_type": "code",
      "metadata": {
        "id": "_VdbzugEERdd"
      },
      "source": [
        "df = df.drop(['Time'],axis=1)"
      ],
      "execution_count": null,
      "outputs": []
    },
    {
      "cell_type": "code",
      "metadata": {
        "colab": {
          "base_uri": "https://localhost:8080/"
        },
        "id": "yYQNfwp1nVfn",
        "outputId": "dff88e80-e4aa-4ab8-d45f-ec1dfafaec1f"
      },
      "source": [
        "df.columns"
      ],
      "execution_count": null,
      "outputs": [
        {
          "output_type": "execute_result",
          "data": {
            "text/plain": [
              "Index(['V1', 'V2', 'V3', 'V4', 'V5', 'V6', 'V7', 'V8', 'V9', 'V10', 'V11',\n",
              "       'V12', 'V13', 'V14', 'V15', 'V16', 'V17', 'V18', 'V19', 'V20', 'V21',\n",
              "       'V22', 'V23', 'V24', 'V25', 'V26', 'V27', 'V28', 'Amount', 'Class'],\n",
              "      dtype='object')"
            ]
          },
          "metadata": {
            "tags": []
          },
          "execution_count": 9
        }
      ]
    },
    {
      "cell_type": "code",
      "metadata": {
        "colab": {
          "base_uri": "https://localhost:8080/"
        },
        "id": "nk6bkuTZnYb4",
        "outputId": "94e3f006-4ebb-4c7f-ac39-b3cb8f935366"
      },
      "source": [
        "df.info()"
      ],
      "execution_count": null,
      "outputs": [
        {
          "output_type": "stream",
          "text": [
            "<class 'pandas.core.frame.DataFrame'>\n",
            "RangeIndex: 284807 entries, 0 to 284806\n",
            "Data columns (total 30 columns):\n",
            " #   Column  Non-Null Count   Dtype  \n",
            "---  ------  --------------   -----  \n",
            " 0   V1      284807 non-null  float64\n",
            " 1   V2      284807 non-null  float64\n",
            " 2   V3      284807 non-null  float64\n",
            " 3   V4      284807 non-null  float64\n",
            " 4   V5      284807 non-null  float64\n",
            " 5   V6      284807 non-null  float64\n",
            " 6   V7      284807 non-null  float64\n",
            " 7   V8      284807 non-null  float64\n",
            " 8   V9      284807 non-null  float64\n",
            " 9   V10     284807 non-null  float64\n",
            " 10  V11     284807 non-null  float64\n",
            " 11  V12     284807 non-null  float64\n",
            " 12  V13     284807 non-null  float64\n",
            " 13  V14     284807 non-null  float64\n",
            " 14  V15     284807 non-null  float64\n",
            " 15  V16     284807 non-null  float64\n",
            " 16  V17     284807 non-null  float64\n",
            " 17  V18     284807 non-null  float64\n",
            " 18  V19     284807 non-null  float64\n",
            " 19  V20     284807 non-null  float64\n",
            " 20  V21     284807 non-null  float64\n",
            " 21  V22     284807 non-null  float64\n",
            " 22  V23     284807 non-null  float64\n",
            " 23  V24     284807 non-null  float64\n",
            " 24  V25     284807 non-null  float64\n",
            " 25  V26     284807 non-null  float64\n",
            " 26  V27     284807 non-null  float64\n",
            " 27  V28     284807 non-null  float64\n",
            " 28  Amount  284807 non-null  float64\n",
            " 29  Class   284807 non-null  int64  \n",
            "dtypes: float64(29), int64(1)\n",
            "memory usage: 65.2 MB\n"
          ],
          "name": "stdout"
        }
      ]
    },
    {
      "cell_type": "code",
      "metadata": {
        "colab": {
          "background_save": true
        },
        "id": "DUWn-2sJndeq",
        "outputId": "1ab996de-cce1-4899-a571-dc28c71ecce5"
      },
      "source": [
        "import seaborn as sns\n",
        "sns.countplot(\"Class\",data=df,color=\"green\")\n",
        "#following plot shows the highly imbalanced data"
      ],
      "execution_count": null,
      "outputs": [
        {
          "output_type": "stream",
          "text": [
            "/usr/local/lib/python3.7/dist-packages/seaborn/_decorators.py:43: FutureWarning: Pass the following variable as a keyword arg: x. From version 0.12, the only valid positional argument will be `data`, and passing other arguments without an explicit keyword will result in an error or misinterpretation.\n",
            "  FutureWarning\n"
          ],
          "name": "stderr"
        },
        {
          "output_type": "execute_result",
          "data": {
            "text/plain": [
              "<matplotlib.axes._subplots.AxesSubplot at 0x7fcd298e85d0>"
            ]
          },
          "metadata": {
            "tags": []
          },
          "execution_count": 0
        },
        {
          "output_type": "display_data",
          "data": {
            "image/png": "[encoded data removed]",
            "text/plain": [
              "<Figure size 432x288 with 1 Axes>"
            ]
          },
          "metadata": {
            "tags": []
          }
        }
      ]
    },
    {
      "cell_type": "markdown",
      "metadata": {
        "id": "L3rPU1DFHdcR"
      },
      "source": [
        "#CORRELATION MATRIX\n",
        "To check weather there is any correlation and to avoid multicollinearity."
      ]
    },
    {
      "cell_type": "code",
      "metadata": {
        "id": "SzfeJM2vnnvt"
      },
      "source": [
        "corrmat = df.corr()\n",
        "top_corr_features = corrmat.index\n",
        "plt.figure(figsize=(15,15))\n",
        "#plot heat map\n",
        "g=sns.heatmap(df[top_corr_features].corr(),cmap=\"Blues\")"
      ],
      "execution_count": null,
      "outputs": []
    },
    {
      "cell_type": "code",
      "metadata": {
        "id": "8K_wQWYvnoz_"
      },
      "source": [
        "df.hist(figsize=[20,20])\n",
        "plt.show()"
      ],
      "execution_count": null,
      "outputs": []
    },
    {
      "cell_type": "markdown",
      "metadata": {
        "id": "c4kymiulMdJY"
      },
      "source": [
        "#Data Standardization"
      ]
    },
    {
      "cell_type": "code",
      "metadata": {
        "id": "xt5Oce-CMb4A"
      },
      "source": [
        "from sklearn.preprocessing import StandardScaler\n",
        "scale = StandardScaler()\n",
        "#scale Amount column to normalize and fit data\n",
        "df['Amount']=StandardScaler().fit_transform(df['Amount'].values.reshape(-1,1))"
      ],
      "execution_count": null,
      "outputs": []
    },
    {
      "cell_type": "code",
      "metadata": {
        "colab": {
          "base_uri": "https://localhost:8080/",
          "height": 376
        },
        "id": "oFbn97lgnwY8",
        "outputId": "79098d90-dff4-434a-e980-ab0727eee97e"
      },
      "source": [
        "df.sample(10)"
      ],
      "execution_count": null,
      "outputs": [
        {
          "output_type": "execute_result",
          "data": {
            "text/html": [
              "<div>\n",
              "<style scoped>\n",
              "    .dataframe tbody tr th:only-of-type {\n",
              "        vertical-align: middle;\n",
              "    }\n",
              "\n",
              "    .dataframe tbody tr th {\n",
              "        vertical-align: top;\n",
              "    }\n",
              "\n",
              "    .dataframe thead th {\n",
              "        text-align: right;\n",
              "    }\n",
              "</style>\n",
              "<table border=\"1\" class=\"dataframe\">\n",
              "  <thead>\n",
              "    <tr style=\"text-align: right;\">\n",
              "      <th></th>\n",
              "      <th>V1</th>\n",
              "      <th>V2</th>\n",
              "      <th>V3</th>\n",
              "      <th>V4</th>\n",
              "      <th>V5</th>\n",
              "      <th>V6</th>\n",
              "      <th>V7</th>\n",
              "      <th>V8</th>\n",
              "      <th>V9</th>\n",
              "      <th>V10</th>\n",
              "      <th>V11</th>\n",
              "      <th>V12</th>\n",
              "      <th>V13</th>\n",
              "      <th>V14</th>\n",
              "      <th>V15</th>\n",
              "      <th>V16</th>\n",
              "      <th>V17</th>\n",
              "      <th>V18</th>\n",
              "      <th>V19</th>\n",
              "      <th>V20</th>\n",
              "      <th>V21</th>\n",
              "      <th>V22</th>\n",
              "      <th>V23</th>\n",
              "      <th>V24</th>\n",
              "      <th>V25</th>\n",
              "      <th>V26</th>\n",
              "      <th>V27</th>\n",
              "      <th>V28</th>\n",
              "      <th>Amount</th>\n",
              "      <th>Class</th>\n",
              "    </tr>\n",
              "  </thead>\n",
              "  <tbody>\n",
              "    <tr>\n",
              "      <th>3704</th>\n",
              "      <td>1.259569</td>\n",
              "      <td>-1.036109</td>\n",
              "      <td>0.963997</td>\n",
              "      <td>-0.642864</td>\n",
              "      <td>-1.555964</td>\n",
              "      <td>-0.006363</td>\n",
              "      <td>-1.291613</td>\n",
              "      <td>0.236361</td>\n",
              "      <td>-0.146226</td>\n",
              "      <td>0.695924</td>\n",
              "      <td>0.624645</td>\n",
              "      <td>-0.557275</td>\n",
              "      <td>-1.046207</td>\n",
              "      <td>-0.276393</td>\n",
              "      <td>-0.174364</td>\n",
              "      <td>1.541167</td>\n",
              "      <td>0.014235</td>\n",
              "      <td>-0.259511</td>\n",
              "      <td>0.869875</td>\n",
              "      <td>0.095556</td>\n",
              "      <td>0.347121</td>\n",
              "      <td>0.890912</td>\n",
              "      <td>-0.177254</td>\n",
              "      <td>0.017257</td>\n",
              "      <td>0.413420</td>\n",
              "      <td>-0.043028</td>\n",
              "      <td>0.029916</td>\n",
              "      <td>0.016233</td>\n",
              "      <td>-0.153325</td>\n",
              "      <td>0</td>\n",
              "    </tr>\n",
              "    <tr>\n",
              "      <th>237944</th>\n",
              "      <td>-4.797492</td>\n",
              "      <td>4.857198</td>\n",
              "      <td>-3.242674</td>\n",
              "      <td>-1.063174</td>\n",
              "      <td>-1.411139</td>\n",
              "      <td>-1.600863</td>\n",
              "      <td>-0.609004</td>\n",
              "      <td>1.650407</td>\n",
              "      <td>1.871837</td>\n",
              "      <td>3.291162</td>\n",
              "      <td>-0.972966</td>\n",
              "      <td>1.535362</td>\n",
              "      <td>1.634303</td>\n",
              "      <td>0.480173</td>\n",
              "      <td>0.399873</td>\n",
              "      <td>-0.372420</td>\n",
              "      <td>0.111557</td>\n",
              "      <td>-0.169820</td>\n",
              "      <td>-0.487583</td>\n",
              "      <td>1.401683</td>\n",
              "      <td>0.188502</td>\n",
              "      <td>1.138962</td>\n",
              "      <td>0.279717</td>\n",
              "      <td>-0.001720</td>\n",
              "      <td>0.030587</td>\n",
              "      <td>-0.201978</td>\n",
              "      <td>0.913872</td>\n",
              "      <td>0.635336</td>\n",
              "      <td>-0.349671</td>\n",
              "      <td>0</td>\n",
              "    </tr>\n",
              "    <tr>\n",
              "      <th>38344</th>\n",
              "      <td>1.430606</td>\n",
              "      <td>-0.728581</td>\n",
              "      <td>0.617990</td>\n",
              "      <td>-0.625919</td>\n",
              "      <td>-1.050452</td>\n",
              "      <td>-0.042594</td>\n",
              "      <td>-1.002180</td>\n",
              "      <td>0.005290</td>\n",
              "      <td>-0.077658</td>\n",
              "      <td>0.469519</td>\n",
              "      <td>-1.390238</td>\n",
              "      <td>-0.513766</td>\n",
              "      <td>0.571466</td>\n",
              "      <td>-0.842372</td>\n",
              "      <td>-0.180356</td>\n",
              "      <td>1.073359</td>\n",
              "      <td>0.210846</td>\n",
              "      <td>-1.001855</td>\n",
              "      <td>0.972386</td>\n",
              "      <td>0.096714</td>\n",
              "      <td>0.216635</td>\n",
              "      <td>0.796419</td>\n",
              "      <td>-0.253175</td>\n",
              "      <td>-0.382746</td>\n",
              "      <td>0.719764</td>\n",
              "      <td>0.048273</td>\n",
              "      <td>0.042954</td>\n",
              "      <td>0.010605</td>\n",
              "      <td>-0.328121</td>\n",
              "      <td>0</td>\n",
              "    </tr>\n",
              "    <tr>\n",
              "      <th>18987</th>\n",
              "      <td>1.289982</td>\n",
              "      <td>0.065076</td>\n",
              "      <td>0.014508</td>\n",
              "      <td>0.246545</td>\n",
              "      <td>0.032067</td>\n",
              "      <td>-0.027889</td>\n",
              "      <td>-0.143376</td>\n",
              "      <td>0.084896</td>\n",
              "      <td>0.050895</td>\n",
              "      <td>0.138862</td>\n",
              "      <td>0.229576</td>\n",
              "      <td>0.019369</td>\n",
              "      <td>-0.793457</td>\n",
              "      <td>0.611504</td>\n",
              "      <td>0.552133</td>\n",
              "      <td>0.897781</td>\n",
              "      <td>-1.027616</td>\n",
              "      <td>0.485471</td>\n",
              "      <td>0.617286</td>\n",
              "      <td>-0.113978</td>\n",
              "      <td>-0.293878</td>\n",
              "      <td>-0.949877</td>\n",
              "      <td>-0.009424</td>\n",
              "      <td>-0.876489</td>\n",
              "      <td>0.299851</td>\n",
              "      <td>0.153144</td>\n",
              "      <td>-0.043287</td>\n",
              "      <td>-0.004851</td>\n",
              "      <td>-0.328121</td>\n",
              "      <td>0</td>\n",
              "    </tr>\n",
              "    <tr>\n",
              "      <th>157352</th>\n",
              "      <td>2.083167</td>\n",
              "      <td>0.128433</td>\n",
              "      <td>-1.335655</td>\n",
              "      <td>0.349340</td>\n",
              "      <td>0.420063</td>\n",
              "      <td>-0.716436</td>\n",
              "      <td>0.106890</td>\n",
              "      <td>-0.385628</td>\n",
              "      <td>1.928253</td>\n",
              "      <td>-0.500151</td>\n",
              "      <td>0.293611</td>\n",
              "      <td>-1.827463</td>\n",
              "      <td>2.463310</td>\n",
              "      <td>1.759315</td>\n",
              "      <td>0.135067</td>\n",
              "      <td>-0.358742</td>\n",
              "      <td>0.158615</td>\n",
              "      <td>0.237328</td>\n",
              "      <td>-0.426003</td>\n",
              "      <td>-0.224756</td>\n",
              "      <td>0.121850</td>\n",
              "      <td>0.790584</td>\n",
              "      <td>0.010593</td>\n",
              "      <td>0.586320</td>\n",
              "      <td>0.353158</td>\n",
              "      <td>-0.483936</td>\n",
              "      <td>-0.015167</td>\n",
              "      <td>-0.053277</td>\n",
              "      <td>-0.349231</td>\n",
              "      <td>0</td>\n",
              "    </tr>\n",
              "    <tr>\n",
              "      <th>58751</th>\n",
              "      <td>-1.795708</td>\n",
              "      <td>-0.171154</td>\n",
              "      <td>1.747857</td>\n",
              "      <td>-0.553794</td>\n",
              "      <td>0.359907</td>\n",
              "      <td>-0.116907</td>\n",
              "      <td>-0.454698</td>\n",
              "      <td>0.785132</td>\n",
              "      <td>-0.587587</td>\n",
              "      <td>-0.984713</td>\n",
              "      <td>1.015940</td>\n",
              "      <td>1.214620</td>\n",
              "      <td>0.929066</td>\n",
              "      <td>0.243901</td>\n",
              "      <td>0.183088</td>\n",
              "      <td>0.951643</td>\n",
              "      <td>-0.814941</td>\n",
              "      <td>0.216036</td>\n",
              "      <td>-1.005877</td>\n",
              "      <td>0.189851</td>\n",
              "      <td>0.292338</td>\n",
              "      <td>0.270284</td>\n",
              "      <td>-0.064525</td>\n",
              "      <td>-0.259194</td>\n",
              "      <td>-0.143519</td>\n",
              "      <td>0.250765</td>\n",
              "      <td>-0.055447</td>\n",
              "      <td>-0.122336</td>\n",
              "      <td>-0.173435</td>\n",
              "      <td>0</td>\n",
              "    </tr>\n",
              "    <tr>\n",
              "      <th>17176</th>\n",
              "      <td>1.236056</td>\n",
              "      <td>0.519209</td>\n",
              "      <td>-0.073251</td>\n",
              "      <td>0.981566</td>\n",
              "      <td>0.177718</td>\n",
              "      <td>-0.846329</td>\n",
              "      <td>0.510512</td>\n",
              "      <td>-0.260361</td>\n",
              "      <td>-0.677051</td>\n",
              "      <td>0.187717</td>\n",
              "      <td>1.491288</td>\n",
              "      <td>1.391579</td>\n",
              "      <td>0.828559</td>\n",
              "      <td>0.577791</td>\n",
              "      <td>-0.118950</td>\n",
              "      <td>-0.063039</td>\n",
              "      <td>-0.616534</td>\n",
              "      <td>0.013164</td>\n",
              "      <td>0.031358</td>\n",
              "      <td>-0.086518</td>\n",
              "      <td>0.064680</td>\n",
              "      <td>0.254057</td>\n",
              "      <td>-0.168464</td>\n",
              "      <td>0.375411</td>\n",
              "      <td>0.854098</td>\n",
              "      <td>-0.316753</td>\n",
              "      <td>-0.005646</td>\n",
              "      <td>0.002622</td>\n",
              "      <td>-0.349231</td>\n",
              "      <td>0</td>\n",
              "    </tr>\n",
              "    <tr>\n",
              "      <th>199920</th>\n",
              "      <td>2.138905</td>\n",
              "      <td>0.043773</td>\n",
              "      <td>-1.765838</td>\n",
              "      <td>0.070071</td>\n",
              "      <td>0.674162</td>\n",
              "      <td>-0.498041</td>\n",
              "      <td>0.248669</td>\n",
              "      <td>-0.316224</td>\n",
              "      <td>0.491914</td>\n",
              "      <td>-0.018607</td>\n",
              "      <td>-1.221143</td>\n",
              "      <td>0.513037</td>\n",
              "      <td>1.166363</td>\n",
              "      <td>0.238972</td>\n",
              "      <td>0.735522</td>\n",
              "      <td>-0.015051</td>\n",
              "      <td>-0.853961</td>\n",
              "      <td>0.099287</td>\n",
              "      <td>0.056478</td>\n",
              "      <td>-0.131246</td>\n",
              "      <td>0.200532</td>\n",
              "      <td>0.758825</td>\n",
              "      <td>-0.067759</td>\n",
              "      <td>0.093949</td>\n",
              "      <td>0.419404</td>\n",
              "      <td>-0.101492</td>\n",
              "      <td>-0.019247</td>\n",
              "      <td>-0.057256</td>\n",
              "      <td>-0.349231</td>\n",
              "      <td>0</td>\n",
              "    </tr>\n",
              "    <tr>\n",
              "      <th>177744</th>\n",
              "      <td>-2.223012</td>\n",
              "      <td>-0.753878</td>\n",
              "      <td>1.907822</td>\n",
              "      <td>0.084153</td>\n",
              "      <td>1.433443</td>\n",
              "      <td>-0.475670</td>\n",
              "      <td>0.131101</td>\n",
              "      <td>0.254938</td>\n",
              "      <td>-0.238953</td>\n",
              "      <td>-0.638398</td>\n",
              "      <td>0.326454</td>\n",
              "      <td>0.474455</td>\n",
              "      <td>-0.342314</td>\n",
              "      <td>0.092845</td>\n",
              "      <td>-0.675636</td>\n",
              "      <td>0.777062</td>\n",
              "      <td>-1.177331</td>\n",
              "      <td>0.452787</td>\n",
              "      <td>-0.558488</td>\n",
              "      <td>-0.105904</td>\n",
              "      <td>-0.168379</td>\n",
              "      <td>-0.630236</td>\n",
              "      <td>0.336419</td>\n",
              "      <td>-0.492869</td>\n",
              "      <td>0.639041</td>\n",
              "      <td>-0.927368</td>\n",
              "      <td>-0.082426</td>\n",
              "      <td>0.198462</td>\n",
              "      <td>-0.107747</td>\n",
              "      <td>0</td>\n",
              "    </tr>\n",
              "    <tr>\n",
              "      <th>154016</th>\n",
              "      <td>-0.098088</td>\n",
              "      <td>0.548910</td>\n",
              "      <td>1.970972</td>\n",
              "      <td>0.181385</td>\n",
              "      <td>-0.435474</td>\n",
              "      <td>-0.036886</td>\n",
              "      <td>-0.150582</td>\n",
              "      <td>0.011582</td>\n",
              "      <td>1.587711</td>\n",
              "      <td>-0.875281</td>\n",
              "      <td>0.100069</td>\n",
              "      <td>-2.242932</td>\n",
              "      <td>2.455857</td>\n",
              "      <td>0.984290</td>\n",
              "      <td>0.200438</td>\n",
              "      <td>0.076820</td>\n",
              "      <td>0.443601</td>\n",
              "      <td>0.436193</td>\n",
              "      <td>0.417968</td>\n",
              "      <td>0.047511</td>\n",
              "      <td>0.014559</td>\n",
              "      <td>0.456193</td>\n",
              "      <td>0.055210</td>\n",
              "      <td>-0.015482</td>\n",
              "      <td>-1.107763</td>\n",
              "      <td>0.540360</td>\n",
              "      <td>0.176873</td>\n",
              "      <td>0.201003</td>\n",
              "      <td>-0.289460</td>\n",
              "      <td>0</td>\n",
              "    </tr>\n",
              "  </tbody>\n",
              "</table>\n",
              "</div>"
            ],
            "text/plain": [
              "              V1        V2        V3  ...       V28    Amount  Class\n",
              "3704    1.259569 -1.036109  0.963997  ...  0.016233 -0.153325      0\n",
              "237944 -4.797492  4.857198 -3.242674  ...  0.635336 -0.349671      0\n",
              "38344   1.430606 -0.728581  0.617990  ...  0.010605 -0.328121      0\n",
              "18987   1.289982  0.065076  0.014508  ... -0.004851 -0.328121      0\n",
              "157352  2.083167  0.128433 -1.335655  ... -0.053277 -0.349231      0\n",
              "58751  -1.795708 -0.171154  1.747857  ... -0.122336 -0.173435      0\n",
              "17176   1.236056  0.519209 -0.073251  ...  0.002622 -0.349231      0\n",
              "199920  2.138905  0.043773 -1.765838  ... -0.057256 -0.349231      0\n",
              "177744 -2.223012 -0.753878  1.907822  ...  0.198462 -0.107747      0\n",
              "154016 -0.098088  0.548910  1.970972  ...  0.201003 -0.289460      0\n",
              "\n",
              "[10 rows x 30 columns]"
            ]
          },
          "metadata": {
            "tags": []
          },
          "execution_count": 15
        }
      ]
    },
    {
      "cell_type": "markdown",
      "metadata": {
        "id": "8ag3Zz8KFxLm"
      },
      "source": [
        "#Feature selection\n",
        "bifurcating target and feature"
      ]
    },
    {
      "cell_type": "code",
      "metadata": {
        "id": "Cn3fkqruF53J"
      },
      "source": [
        "y = df['Class']\n",
        "X = df.drop(columns=['Class'])"
      ],
      "execution_count": null,
      "outputs": []
    },
    {
      "cell_type": "markdown",
      "metadata": {
        "id": "Cx-LhuQiGEP3"
      },
      "source": [
        "#Splitting train and test data"
      ]
    },
    {
      "cell_type": "code",
      "metadata": {
        "id": "cFiLIn6BG0zX"
      },
      "source": [
        "from sklearn.model_selection import train_test_split\n",
        "X_train, X_test,y_train,y_test=train_test_split(X,y,test_size=0.20,random_state=42)"
      ],
      "execution_count": null,
      "outputs": []
    },
    {
      "cell_type": "markdown",
      "metadata": {
        "id": "0povuXmVHV0D"
      },
      "source": [
        "#Using oversampling SMOTE technique \n",
        "To balance the training set \n"
      ]
    },
    {
      "cell_type": "code",
      "metadata": {
        "colab": {
          "base_uri": "https://localhost:8080/"
        },
        "id": "9XLW7dcRstuv",
        "outputId": "7402322b-05a3-43c6-86b1-17770d78c566"
      },
      "source": [
        "from imblearn.over_sampling import RandomOverSampler, SMOTE\n",
        "\n",
        "smote = SMOTE(sampling_strategy='auto', random_state=42)\n",
        "X_smote, y_smote = smote.fit_resample(X_train, y_train)\n",
        "print(\"Before OverSampling, counts of label '1': {}\".format(sum(y_train == 1))) \n",
        "print(\"Before OverSampling, counts of label '0': {} \\n\".format(sum(y_train == 0))) "
      ],
      "execution_count": null,
      "outputs": [
        {
          "output_type": "stream",
          "text": [
            "/usr/local/lib/python3.7/dist-packages/sklearn/utils/deprecation.py:87: FutureWarning: Function safe_indexing is deprecated; safe_indexing is deprecated in version 0.22 and will be removed in version 0.24.\n",
            "  warnings.warn(msg, category=FutureWarning)\n"
          ],
          "name": "stderr"
        },
        {
          "output_type": "stream",
          "text": [
            "Before OverSampling, counts of label '1': 394\n",
            "Before OverSampling, counts of label '0': 227451 \n",
            "\n"
          ],
          "name": "stdout"
        }
      ]
    },
    {
      "cell_type": "code",
      "metadata": {
        "colab": {
          "base_uri": "https://localhost:8080/",
          "height": 272
        },
        "id": "iQzcPwCTs0ph",
        "outputId": "1bcd025d-3ee4-4d74-a90e-508de54ae576"
      },
      "source": [
        "sm = SMOTE(random_state = 2) \n",
        "X_train_res, y_train_res = sm.fit_sample(X_train, y_train.ravel()) \n",
        "\n",
        "print(\"After OverSampling, counts of label '1': {}\".format(sum(y_train_res == 1))) \n",
        "print(\"After OverSampling, counts of label '0': {}\".format(sum(y_train_res == 0)))"
      ],
      "execution_count": null,
      "outputs": [
        {
          "output_type": "stream",
          "text": [
            "/usr/local/lib/python3.7/dist-packages/sklearn/utils/deprecation.py:87: FutureWarning: Function safe_indexing is deprecated; safe_indexing is deprecated in version 0.22 and will be removed in version 0.24.\n",
            "  warnings.warn(msg, category=FutureWarning)\n"
          ],
          "name": "stderr"
        },
        {
          "output_type": "stream",
          "text": [
            "After OverSampling, counts of label '1': 227451\n"
          ],
          "name": "stdout"
        },
        {
          "output_type": "error",
          "ename": "KeyboardInterrupt",
          "evalue": "ignored",
          "traceback": [
            "\u001b[0;31m---------------------------------------------------------------------------\u001b[0m",
            "\u001b[0;31mKeyboardInterrupt\u001b[0m                         Traceback (most recent call last)",
            "\u001b[0;32m<ipython-input-35-f5bcb5ddd8b2>\u001b[0m in \u001b[0;36m<module>\u001b[0;34m()\u001b[0m\n\u001b[1;32m      3\u001b[0m \u001b[0;34m\u001b[0m\u001b[0m\n\u001b[1;32m      4\u001b[0m \u001b[0mprint\u001b[0m\u001b[0;34m(\u001b[0m\u001b[0;34m\"After OverSampling, counts of label '1': {}\"\u001b[0m\u001b[0;34m.\u001b[0m\u001b[0mformat\u001b[0m\u001b[0;34m(\u001b[0m\u001b[0msum\u001b[0m\u001b[0;34m(\u001b[0m\u001b[0my_train_res\u001b[0m \u001b[0;34m==\u001b[0m \u001b[0;36m1\u001b[0m\u001b[0;34m)\u001b[0m\u001b[0;34m)\u001b[0m\u001b[0;34m)\u001b[0m\u001b[0;34m\u001b[0m\u001b[0;34m\u001b[0m\u001b[0m\n\u001b[0;32m----> 5\u001b[0;31m \u001b[0mprint\u001b[0m\u001b[0;34m(\u001b[0m\u001b[0;34m\"After OverSampling, counts of label '0': {}\"\u001b[0m\u001b[0;34m.\u001b[0m\u001b[0mformat\u001b[0m\u001b[0;34m(\u001b[0m\u001b[0msum\u001b[0m\u001b[0;34m(\u001b[0m\u001b[0my_train_res\u001b[0m \u001b[0;34m==\u001b[0m \u001b[0;36m0\u001b[0m\u001b[0;34m)\u001b[0m\u001b[0;34m)\u001b[0m\u001b[0;34m)\u001b[0m\u001b[0;34m\u001b[0m\u001b[0;34m\u001b[0m\u001b[0m\n\u001b[0m",
            "\u001b[0;31mKeyboardInterrupt\u001b[0m: "
          ]
        }
      ]
    },
    {
      "cell_type": "code",
      "metadata": {
        "id": "zChsLfnus1yO"
      },
      "source": [
        "#Model "
      ],
      "execution_count": null,
      "outputs": []
    },
    {
      "cell_type": "code",
      "metadata": {
        "id": "pnlSo-FBwLi_"
      },
      "source": [
        ""
      ],
      "execution_count": null,
      "outputs": []
    },
    {
      "cell_type": "code",
      "metadata": {
        "id": "PpsjD4tqKOXs"
      },
      "source": [
        "from sklearn.metrics import confusion_matrix\n",
        "from sklearn.metrics import accuracy_score,precision_score,recall_score,f1_score,precision_recall_curve,auc,roc_auc_score,roc_curve"
      ],
      "execution_count": 39,
      "outputs": []
    },
    {
      "cell_type": "code",
      "metadata": {
        "id": "xfStCJ6ss38p"
      },
      "source": [
        "def report(y_test,y_pred):\n",
        "  print('The accuracy is :',accuracy_score(y_test,y_pred))\n",
        "  print('The precision is :',precision_score(y_test,y_pred))\n",
        "  print('The recall is :',recall_score(y_test,y_pred))\n",
        "  print('The F1 Score is :',f1_score(y_test,y_pred))\n",
        "  print('The AUC is :',roc_auc_score(y_test , y_pred))\n",
        "  print('Confusion Matrix : \\n', confusion_matrix(y_test,y_pred))\n",
        "pass"
      ],
      "execution_count": 40,
      "outputs": []
    },
    {
      "cell_type": "code",
      "metadata": {
        "id": "IuqG8HoGs78I"
      },
      "source": [
        "from sklearn.linear_model import LogisticRegression\n",
        "lr = LogisticRegression() #Build the model\n",
        "lr.fit(X_train, y_train)  #Train the model\n",
        "y_pred=lr.predict(X_test) #Test the model \n",
        "print('LOGISTIC REGRESSION MODEL')\n",
        "report(y_test,y_pred)"
      ],
      "execution_count": null,
      "outputs": []
    },
    {
      "cell_type": "code",
      "metadata": {
        "id": "8JjAmk52tCrX"
      },
      "source": [
        "#ROC curve for LR classifier\n",
        "fp, tp, thresholds = roc_curve(y_test, y_pred)\n",
        "auc = roc_auc_score(y_test, y_pred)\n",
        "plt.plot(fp,tp,linewidth=2)\n",
        "\n",
        "plt.plot([0,1], [0,1], 'k--' )\n",
        "plt.rcParams['font.size'] = 12\n",
        "plt.title('ROC curve')\n",
        "plt.xlabel('False Positive (1 - Specificity)')\n",
        "plt.ylabel('True Positive (Sensitivity)')\n",
        "plt.show()"
      ],
      "execution_count": null,
      "outputs": []
    },
    {
      "cell_type": "code",
      "metadata": {
        "id": "U2cT2VZOthPa"
      },
      "source": [
        "from sklearn.neighbors import KNeighborsClassifier\n",
        "k = KNeighborsClassifier() #Build the model\n",
        "k.fit(X_train, y_train)  #Train the model\n",
        "y_pred=k.predict(X_test) #Test the model \n",
        "print('KNN MODEL')\n",
        "report(y_test,y_pred)"
      ],
      "execution_count": null,
      "outputs": []
    },
    {
      "cell_type": "code",
      "metadata": {
        "id": "Y039N0EDtiHg"
      },
      "source": [
        "#ROC curve for KNN classifier\n",
        "fp, tp, thresholds = roc_curve(y_test, y_pred)\n",
        "auc = roc_auc_score(y_test, y_pred)\n",
        "plt.plot(fp,tp,linewidth=2)\n",
        "\n",
        "plt.plot([0,1], [0,1], 'k--' )\n",
        "plt.rcParams['font.size'] = 12\n",
        "plt.title('ROC curve')\n",
        "plt.xlabel('False Positive (1 - Specificity)')\n",
        "plt.ylabel('True Positive (Sensitivity)')\n",
        "plt.show()"
      ],
      "execution_count": null,
      "outputs": []
    },
    {
      "cell_type": "code",
      "metadata": {
        "id": "qtEEU-FXtiVI"
      },
      "source": [
        "from sklearn.tree import DecisionTreeClassifier\n",
        "tree = DecisionTreeClassifier() #Build the model\n",
        "tree.fit(X_train, y_train)  #Train the model\n",
        "y_pred=tree.predict(X_test) #Test the model \n",
        "print('DECISION TREE MODEL')\n",
        "report(y_test,y_pred)"
      ],
      "execution_count": null,
      "outputs": []
    },
    {
      "cell_type": "code",
      "metadata": {
        "id": "oZUfqySMti_w",
        "colab": {
          "base_uri": "https://localhost:8080/",
          "height": 302
        },
        "outputId": "a2968d92-0b3c-4b23-dc8b-7b3e08189c94"
      },
      "source": [
        "#ROC curve for TREE classifier\n",
        "fp, tp, thresholds = roc_curve(y_test, y_pred)\n",
        "auc = roc_auc_score(y_test, y_pred)\n",
        "plt.plot(fp,tp,linewidth=2)\n",
        "\n",
        "plt.plot([0,1], [0,1], 'k--' )\n",
        "plt.rcParams['font.size'] = 12\n",
        "plt.title('ROC curve')\n",
        "plt.xlabel('False Positive (1 - Specificity)')\n",
        "plt.ylabel('True Positive (Sensitivity)')\n",
        "plt.show()"
      ],
      "execution_count": 41,
      "outputs": [
        {
          "output_type": "display_data",
          "data": {
            "image/png": "[encoded data removed]",
            "text/plain": [
              "<Figure size 432x288 with 1 Axes>"
            ]
          },
          "metadata": {
            "tags": [],
            "needs_background": "light"
          }
        }
      ]
    },
    {
      "cell_type": "code",
      "metadata": {
        "id": "7DID5CUBtjND",
        "colab": {
          "base_uri": "https://localhost:8080/"
        },
        "outputId": "024e756c-1c52-4954-e9db-10100f374f40"
      },
      "source": [
        "from sklearn.ensemble import RandomForestClassifier\n",
        "rf = RandomForestClassifier() #Build the model\n",
        "rf.fit(X_train, y_train)  #Train the model\n",
        "y_pred=rf.predict(X_test) #Test the model \n",
        "print('RANDOM FOREST')\n",
        "report(y_test,y_pred)"
      ],
      "execution_count": 42,
      "outputs": [
        {
          "output_type": "stream",
          "text": [
            "RANDOM FOREST\n",
            "The accuracy is : 0.9995611109160493\n",
            "The precision is : 0.9620253164556962\n",
            "The recall is : 0.7755102040816326\n",
            "The F1 Score is : 0.8587570621468926\n",
            "The AUC is : 0.8877287233126226\n",
            "Confusion Matrix : \n",
            " [[56861     3]\n",
            " [   22    76]]\n"
          ],
          "name": "stdout"
        }
      ]
    },
    {
      "cell_type": "code",
      "metadata": {
        "id": "vFS8fVgg2atE",
        "colab": {
          "base_uri": "https://localhost:8080/",
          "height": 302
        },
        "outputId": "08a04bf4-4fbd-40fa-c4ce-3c9fed609607"
      },
      "source": [
        "#ROC curve for RF classifier\n",
        "fp, tp, thresholds = roc_curve(y_test, y_pred)\n",
        "auc = roc_auc_score(y_test, y_pred)\n",
        "plt.plot(fp,tp,linewidth=2)\n",
        "\n",
        "plt.plot([0,1], [0,1], 'k--' )\n",
        "plt.rcParams['font.size'] = 12\n",
        "plt.title('ROC curve')\n",
        "plt.xlabel('False Positive (1 - Specificity)')\n",
        "plt.ylabel('True Positive (Sensitivity)')\n",
        "plt.show()"
      ],
      "execution_count": 43,
      "outputs": [
        {
          "output_type": "display_data",
          "data": {
            "image/png": "[encoded data removed]",
            "text/plain": [
              "<Figure size 432x288 with 1 Axes>"
            ]
          },
          "metadata": {
            "tags": [],
            "needs_background": "light"
          }
        }
      ]
    },
    {
      "cell_type": "code",
      "metadata": {
        "id": "6dRpXiUC2bEy",
        "colab": {
          "base_uri": "https://localhost:8080/"
        },
        "outputId": "d789426d-3b6f-4240-9a74-ecfc6d7b5403"
      },
      "source": [
        "from sklearn.naive_bayes import GaussianNB\n",
        "nv = GaussianNB() #Build the model\n",
        "nv.fit(X_train, y_train)  #Train the model\n",
        "y_pred=nv.predict(X_test) #Test the model \n",
        "print('NB MODEL')\n",
        "report(y_test,y_pred)"
      ],
      "execution_count": 44,
      "outputs": [
        {
          "output_type": "stream",
          "text": [
            "NB MODEL\n",
            "The accuracy is : 0.9776342122818721\n",
            "The precision is : 0.059880239520958084\n",
            "The recall is : 0.8163265306122449\n",
            "The F1 Score is : 0.11157601115760112\n",
            "The AUC is : 0.8971193711024084\n",
            "Confusion Matrix : \n",
            " [[55608  1256]\n",
            " [   18    80]]\n"
          ],
          "name": "stdout"
        }
      ]
    },
    {
      "cell_type": "code",
      "metadata": {
        "id": "h6pjsrx52bQy",
        "colab": {
          "base_uri": "https://localhost:8080/",
          "height": 302
        },
        "outputId": "b79a11ae-8713-4711-818c-841bb12d61dc"
      },
      "source": [
        "#ROC curve for NB classifier\n",
        "fp, tp, thresholds = roc_curve(y_test, y_pred)\n",
        "auc = roc_auc_score(y_test, y_pred)\n",
        "plt.plot(fp,tp,linewidth=2)\n",
        "\n",
        "plt.plot([0,1], [0,1], 'k--' )\n",
        "plt.rcParams['font.size'] = 12\n",
        "plt.title('ROC curve')\n",
        "plt.xlabel('False Positive (1 - Specificity)')\n",
        "plt.ylabel('True Positive (Sensitivity)')\n",
        "plt.show()"
      ],
      "execution_count": 45,
      "outputs": [
        {
          "output_type": "display_data",
          "data": {
            "image/png": "[encoded data removed]",
            "text/plain": [
              "<Figure size 432x288 with 1 Axes>"
            ]
          },
          "metadata": {
            "tags": [],
            "needs_background": "light"
          }
        }
      ]
    }
  ]
}